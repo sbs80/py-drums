{
  "nbformat": 4,
  "nbformat_minor": 0,
  "metadata": {
    "colab": {
      "name": "Copy of Kick.ipynb",
      "provenance": [],
      "collapsed_sections": [],
      "include_colab_link": true
    },
    "kernelspec": {
      "name": "python3",
      "display_name": "Python 3"
    }
  },
  "cells": [
    {
      "cell_type": "markdown",
      "metadata": {
        "id": "view-in-github",
        "colab_type": "text"
      },
      "source": [
        "<a href=\"https://colab.research.google.com/github/sbs80/py-drums/blob/master/Kick.ipynb\" target=\"_parent\"><img src=\"https://colab.research.google.com/assets/colab-badge.svg\" alt=\"Open In Colab\"/></a>"
      ]
    },
    {
      "cell_type": "markdown",
      "metadata": {
        "id": "qSOUu6DPa57A"
      },
      "source": [
        "# Kick Synthesizer\n",
        "A simple kick drum synthesizer written in Python with automatic parameter matching. A genetic algorithm is used to tune the synthesizer parameters in an attempt to match the output to an uploaded audio file.\n",
        "\n",
        "The genetic algorithm is adapted from the following guide: https://towardsdatascience.com/genetic-algorithm-implementation-in-python-5ab67bb124a6. This has since been expanded to make a Python library PyGAD https://pypi.org/project/pygad."
      ]
    },
    {
      "cell_type": "markdown",
      "metadata": {
        "id": "V6uWxt0_cMd5"
      },
      "source": [
        "# Install and import packages"
      ]
    },
    {
      "cell_type": "code",
      "metadata": {
        "id": "5YTXwpMMhaua",
        "cellView": "form"
      },
      "source": [
        "#@title Install pyo package\n",
        "\n",
        "!pip install pyo"
      ],
      "execution_count": null,
      "outputs": []
    },
    {
      "cell_type": "code",
      "metadata": {
        "id": "oUlVUCfHphrA",
        "cellView": "form"
      },
      "source": [
        "#@title Import packages\n",
        "\n",
        "import librosa\n",
        "import librosa.feature\n",
        "import numpy as np\n",
        "import IPython.display as ipd\n",
        "import random\n",
        "\n",
        "from pyo import *"
      ],
      "execution_count": null,
      "outputs": []
    },
    {
      "cell_type": "markdown",
      "metadata": {
        "id": "hXwX9wtucWNW"
      },
      "source": [
        "#Define kick synthesizer engine"
      ]
    },
    {
      "cell_type": "code",
      "metadata": {
        "id": "qU6KHKR5hd2b",
        "cellView": "code"
      },
      "source": [
        "#@title Kick Synth\n",
        " \n",
        "def kick_synth(args):\n",
        "  # Creates and boots the pyo server.\n",
        "  # Initialize the Server in offline mode.\n",
        "  s = Server(duplex=0, nchnls=1, audio=\"offline\")\n",
        "  s.setVerbosity(0)\n",
        "  s.boot()\n",
        " \n",
        "  # Controls the overall gain of the synthesizer\n",
        "  s.amp = args[0]\n",
        " \n",
        "  # Output file duration\n",
        "  dur = 1.1\n",
        " \n",
        "  # Set recording parameters\n",
        "  s.recordOptions(dur=dur,\n",
        "                  filename='synth_kick.wav',\n",
        "                  fileformat=0,\n",
        "                  sampletype=0)\n",
        " \n",
        "  # Synthesis consists of a frequency modulated sine wave generator and a low pass filtered click generator.\n",
        "  # Frequency of sine wave generators:\n",
        "  ifreq2 = args[1]*100.0\n",
        " \n",
        "  # Define synthesis envelopes with adjustable gains and decays:\n",
        "  env2 = Adsr(attack=args[2]/1000.0, decay=args[3], sustain=0.0, release=0.0, dur=dur)\n",
        "  fenv2 = Adsr(attack=0, decay=args[4], sustain=0.0, release=0.0, dur=dur)\n",
        "\n",
        "  # Click:\n",
        "  tr = Adsr(attack=args[5]/1000.0, decay=args[6]/100.0, sustain=0.0, release=0.0, dur=dur).play(delay = 0.1)\n",
        " \n",
        "  env2.setExp(args[7]*2)\n",
        "  fenv2.setExp(args[8]*2)\n",
        " \n",
        "  env2.play(delay = 0.1)\n",
        "  fenv2.play(delay = 0.1)\n",
        " \n",
        "  osc2 = Sine(freq=(fenv2*args[9]*100.0)+ifreq2, phase=args[10], mul=env2*args[11]).play(delay=0.1)\n",
        " \n",
        "  # low pass filter\n",
        "  filt = Biquad(tr, args[12]*10000.0, q=args[13]*20, type=0)\n",
        "  \n",
        "  (filt+osc2).out()\n",
        " \n",
        "  # Start rendering\n",
        "  s.start()\n",
        " \n",
        "  # Cleanup for the next pass\n",
        "  s.shutdown()"
      ],
      "execution_count": null,
      "outputs": []
    },
    {
      "cell_type": "markdown",
      "metadata": {
        "id": "xPvSEkD3xM2x"
      },
      "source": [
        "# Match to target sound using a genetic algorithm"
      ]
    },
    {
      "cell_type": "code",
      "metadata": {
        "cellView": "form",
        "id": "xm7rBmLu9Ia-"
      },
      "source": [
        "#@title Upload target kick sound file\n",
        "\n",
        "from google.colab import files\n",
        "target_upload = files.upload()\n",
        "target = next(iter(target_upload))\n",
        "ipd.Audio(target)"
      ],
      "execution_count": null,
      "outputs": []
    },
    {
      "cell_type": "code",
      "metadata": {
        "id": "ckkmsONGyeUp",
        "cellView": "form"
      },
      "source": [
        "#@title Extract features of target sound and define fitness function\n",
        "\n",
        "n_fft = 1024 #@param {type:\"number\"}\n",
        "hop_length = 256 #@param {type:\"integer\"}\n",
        "n_seconds = 1 #@param {type:\"integer\"}\n",
        "\n",
        "# Load target sound\n",
        "y,fs = librosa.core.load(target, sr=None)\n",
        "\n",
        "# Trim any silence at the start\n",
        "y = np.trim_zeros(y, trim='f')\n",
        "\n",
        "# Pad with zeros at the start for FFT\n",
        "y = np.pad(y, (int(n_fft/2), ), 'constant')\n",
        "\n",
        "# Fix length of target kick sound to n_seconds seconds\n",
        "n_samples = round(fs*n_seconds)\n",
        "y = librosa.util.fix_length(y, fs*n_seconds)\n",
        "\n",
        "# Calculate Spectrogram of target kick sound\n",
        "S = librosa.core.stft(y, n_fft=n_fft, hop_length=hop_length, window='hann')\n",
        "S_target, phase = librosa.magphase(S)\n",
        "\n",
        "# Spectral Centroid (not currently used):\n",
        "# C_target = librosa.feature.spectral_centroid(S=S_target)\n",
        "\n",
        "# Perform a fitness calculation for an array of synthesizer parameters\n",
        "def fitness_calc(input):\n",
        "\n",
        "  fitness = np.zeros(input.shape[0])\n",
        "\n",
        "  for ch in range(input.shape[0]):\n",
        "    # Synthesize and load kick sound\n",
        "    kick_synth(input[ch].tolist())\n",
        "    y,fs = librosa.core.load('synth_kick.wav', sr=None)\n",
        "\n",
        "    # Trim any silence at the start\n",
        "    y = np.trim_zeros(y, trim='f')\n",
        "\n",
        "    # Pad with zeros at the start for FFT\n",
        "    y = np.pad(y, (int(n_fft/2), ), 'constant')\n",
        "\n",
        "    # Force length to n_seconds seconds\n",
        "    y = librosa.util.fix_length(y, fs*n_seconds)\n",
        "\n",
        "    # Calculate Spectrogram of synthesized kick sound\n",
        "    S = librosa.core.stft(y, n_fft=n_fft, hop_length=hop_length, window='hann')\n",
        "    S_synth, phase = librosa.magphase(S)\n",
        " \n",
        "    # Calulate mean squared error of the synthesized kick compared to the \"real\" kick\n",
        "    mse = ((S_synth - S_target)**2).mean()\n",
        "    \n",
        "    # Fitness is defined as the negative of the mean squared error\n",
        "    fitness[ch] = -mse\n",
        "\n",
        "  return fitness"
      ],
      "execution_count": null,
      "outputs": []
    },
    {
      "cell_type": "code",
      "metadata": {
        "id": "BVQl6WZavP8C",
        "cellView": "form"
      },
      "source": [
        "#@title Define genetic algorithm functions\n",
        "mute_probability = 0.2 #@param {type:\"slider\", min:0, max:1, step:0.01}\n",
        "mute_max_val = 0.86 #@param {type:\"slider\", min:0, max:1, step:0.01}\n",
        "parent_1_probability = 0.6 #@param {type:\"slider\", min:0, max:1, step:0.01}\n",
        "\n",
        "def calc_pop_fitness(pop, parents_fitness, generation, num_parents):\n",
        "  # Calculate the fitness value for each synthesizer parameter set in the current population\n",
        "  # If not the first generation, don't bother recalculating fitness for the \"parents\"\n",
        "  if generation > 0:\n",
        "    fitness = np.empty( pop.shape[0])\n",
        "    fitness[0:num_parents] = parents_fitness\n",
        "    fitness[num_parents:] = fitness_calc(pop[parents.shape[0]:, :])\n",
        "  else:\n",
        "    fitness = fitness_calc(pop)\n",
        "  return fitness\n",
        "\n",
        "def select_mating_pool(pop, fitness, num_parents):\n",
        "  # Select the fittest as parents for producing the offspring of the next generation\n",
        "  parents = np.empty((num_parents, pop.shape[1]))\n",
        "  parents_fitness = np.empty(num_parents)\n",
        "\n",
        "  for parent_num in range(num_parents):\n",
        "    max_fitness_idx = np.where(fitness == np.max(fitness))\n",
        "    max_fitness_idx = max_fitness_idx[0][0]\n",
        "\n",
        "    # print(max_fitness_idx)\n",
        "    # if parent_num == 0:\n",
        "    # print(pop[max_fitness_idx, :])\n",
        "\n",
        "    parents[parent_num, :] = pop[max_fitness_idx, :]\n",
        "    parents_fitness[parent_num] = fitness[max_fitness_idx]\n",
        "\n",
        "    fitness[max_fitness_idx] = -99999999999\n",
        "\n",
        "  return parents, parents_fitness\n",
        "\n",
        "def crossover(parents, offspring_size):\n",
        "  offspring = np.empty(offspring_size)\n",
        "\n",
        "  for k in range(offspring_size[0]):\n",
        "    # Index of the first parent to mate\n",
        "    parent1_idx = k%parents.shape[0]\n",
        "    # Index of the second parent to mate\n",
        "    parent2_idx = (k+1)%parents.shape[0]\n",
        "\n",
        "    for l in range(offspring_size[1]):\n",
        "      if np.random.uniform() < parent_1_probability:\n",
        "        offspring[k, l] = parents[parent1_idx, l]\n",
        "      else:\n",
        "        offspring[k, l] = parents[parent2_idx, l]\n",
        "  return offspring\n",
        "\n",
        "def mutation(offspring_crossover,num_weights):\n",
        "  # Mutation changes a single gene in each offspring randomly \n",
        "  for idx in range(offspring_crossover.shape[0]):\n",
        "    # Randomly mutate some genes\n",
        "    for weight in range(num_weights):\n",
        "      if np.random.uniform() < mute_probability:\n",
        "        random_value = np.random.uniform(-mute_max_val, mute_max_val, 1)\n",
        "\n",
        "        # Apply mutation\n",
        "        offspring_crossover[idx, weight] = offspring_crossover[idx, weight] + random_value\n",
        "\n",
        "  return offspring_crossover"
      ],
      "execution_count": null,
      "outputs": []
    },
    {
      "cell_type": "code",
      "metadata": {
        "id": "W84b7O6iKCQE",
        "cellView": "form"
      },
      "source": [
        "#@title Run genetic algorithm\n",
        "num_population = 30 #@param {type:\"integer\"}\n",
        "num_generations = 200 #@param {type:\"integer\"}\n",
        "num_parents_mating = 5 #@param {type:\"integer\"}\n",
        "\n",
        "num_params = 20\n",
        "\n",
        "# Calculate size of array need to hold entire population of parameters\n",
        "pop_size = (num_population,num_params) \n",
        "\n",
        "#Create an initial random population.\n",
        "new_population = np.random.uniform(low=0.0, high=1.0, size=pop_size)\n",
        "\n",
        "parents_fitness = np.empty(num_parents_mating)\n",
        "\n",
        "\n",
        "\n",
        "\n",
        "for generation in range(num_generations):\n",
        "  # Measure the fitness of each member in the population\n",
        "  fitness = calc_pop_fitness(new_population, parents_fitness, generation, num_parents_mating)\n",
        "     \n",
        "  print(\"Generation \" + str(generation) + \" best score: \" + str(fitness.max()))\n",
        "\n",
        "  # Allow user to listen to the result after every 10 generations\n",
        "  if generation % 10 == 0:\n",
        "    max_fitness_idx = np.where(parents_fitness == np.max(parents_fitness))\n",
        "    max_fitness_idx = max_fitness_idx[0][0]\n",
        "    kick_synth(new_population[max_fitness_idx].tolist())\n",
        "    ipd.display(ipd.Audio('synth_kick.wav'))\n",
        "    print(\"parameters used to achieve closest match:\")\n",
        "    print(new_population[max_fitness_idx])\n",
        "\n",
        "  # Select the best parents in the population for mating\n",
        "  parents, parents_fitness = select_mating_pool(new_population, fitness, num_parents_mating)\n",
        " \n",
        "  # Generate the next generation using crossover\n",
        "  offspring_crossover = crossover(parents, offspring_size=(pop_size[0]-parents.shape[0], num_params))\n",
        " \n",
        "  # Adding some variations to the offsrping using mutation\n",
        "  offspring_mutation = mutation(offspring_crossover,num_params)\n",
        "  # Creating the new population based on the parents and offspring\n",
        "  new_population[0:parents.shape[0], :] = parents\n",
        "  new_population[parents.shape[0]:, :] = offspring_mutation"
      ],
      "execution_count": null,
      "outputs": []
    },
    {
      "cell_type": "code",
      "metadata": {
        "id": "Zhif8V5T_ZFi",
        "cellView": "form"
      },
      "source": [
        "#@title Listen to results!\n",
        "\n",
        "print(\"Generation number reached: \" + str(generation))\n",
        "\n",
        "print(\"Target sample:\")\n",
        "ipd.display(ipd.Audio(target))\n",
        "\n",
        "print(\"Closest match according to fitness function:\")\n",
        "max_fitness_idx = np.where(parents_fitness == np.max(parents_fitness))\n",
        "max_fitness_idx = max_fitness_idx[0][0]\n",
        "kick_synth(new_population[max_fitness_idx].tolist())\n",
        "ipd.display(ipd.Audio('synth_kick.wav'))\n",
        "print(\"parameters used to achieve closest match:\")\n",
        "print(new_population[max_fitness_idx])\n",
        "\n",
        "print(\"Randomly generated sample for comparison:\")\n",
        "random_params = np.random.uniform(low=0.0, high=1.0, size=num_params)\n",
        "kick_synth(random_params.tolist())\n",
        "ipd.display(ipd.Audio('synth_kick.wav'))"
      ],
      "execution_count": null,
      "outputs": []
    }
  ]
}