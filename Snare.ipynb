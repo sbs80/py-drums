{
  "nbformat": 4,
  "nbformat_minor": 0,
  "metadata": {
    "colab": {
      "name": "Snare.ipynb",
      "provenance": [],
      "collapsed_sections": [
        "V6uWxt0_cMd5"
      ],
      "toc_visible": true,
      "mount_file_id": "1EO9FQmVQBhruimRpaagKR7W2151SaGBs",
      "authorship_tag": "ABX9TyOPqGdQIZOYCewjh8ilKIlV",
      "include_colab_link": true
    },
    "kernelspec": {
      "name": "python3",
      "display_name": "Python 3"
    }
  },
  "cells": [
    {
      "cell_type": "markdown",
      "metadata": {
        "id": "view-in-github",
        "colab_type": "text"
      },
      "source": [
        "<a href=\"https://colab.research.google.com/github/sbs80/py-drums/blob/master/Snare.ipynb\" target=\"_parent\"><img src=\"https://colab.research.google.com/assets/colab-badge.svg\" alt=\"Open In Colab\"/></a>"
      ]
    },
    {
      "cell_type": "markdown",
      "metadata": {
        "id": "qSOUu6DPa57A",
        "colab_type": "text"
      },
      "source": [
        "# Snare Synthesizer\n",
        "A simple snare drum synthesizer written in Python. Its parameters can either be tuned by hand or machine learnt by matching to an uploaded sample file using a genetic algorithm.\n",
        "\n",
        "The synthesizer is loosely based on the technique described in this article: https://www.soundonsound.com/techniques/synthesizing-drums-snare-drum.\n",
        "\n",
        "The genetic algorithm is adapted from the following guide: https://towardsdatascience.com/genetic-algorithm-implementation-in-python-5ab67bb124a6. This has since been expanded to make a Python library PyGAD https://pypi.org/project/pygad."
      ]
    },
    {
      "cell_type": "markdown",
      "metadata": {
        "id": "V6uWxt0_cMd5",
        "colab_type": "text"
      },
      "source": [
        "# Install and import packages"
      ]
    },
    {
      "cell_type": "code",
      "metadata": {
        "id": "5YTXwpMMhaua",
        "colab_type": "code",
        "cellView": "form",
        "colab": {}
      },
      "source": [
        "#@title Install pyo package\n",
        "\n",
        "!pip install pyo"
      ],
      "execution_count": 0,
      "outputs": []
    },
    {
      "cell_type": "code",
      "metadata": {
        "id": "oUlVUCfHphrA",
        "colab_type": "code",
        "cellView": "form",
        "colab": {}
      },
      "source": [
        "#@title Import packages\n",
        "\n",
        "import librosa\n",
        "import librosa.feature\n",
        "import numpy as np\n",
        "import IPython.display as ipd\n",
        "import random\n",
        "\n",
        "from pyo import *"
      ],
      "execution_count": 0,
      "outputs": []
    },
    {
      "cell_type": "markdown",
      "metadata": {
        "id": "hXwX9wtucWNW",
        "colab_type": "text"
      },
      "source": [
        "#Define snare synthesizer engine"
      ]
    },
    {
      "cell_type": "code",
      "metadata": {
        "id": "qU6KHKR5hd2b",
        "colab_type": "code",
        "cellView": "form",
        "colab": {}
      },
      "source": [
        "#@title Snare Synth\n",
        "\n",
        "def snare_synth(args):\n",
        "\n",
        "  # Creates and boots the pyo server.\n",
        "  # Initialize the Server in offline mode.\n",
        "  s = Server(duplex=0, audio=\"offline\")\n",
        "  s.setVerbosity(0)\n",
        "  s.boot()\n",
        "\n",
        "  # Controls the overall gain of the synthesizer\n",
        "  s.amp = args[14]\n",
        "\n",
        "  # Output file duration.\n",
        "  dur = 1.0\n",
        "\n",
        "  # Set recording parameters.\n",
        "  s.recordOptions(dur=dur,\n",
        "                  filename='synth_snare.wav',\n",
        "                  fileformat=0,\n",
        "                  sampletype=0)\n",
        "\n",
        "  # Synthesis consists of 2 sine wave generators and a filtered noise generator.\n",
        "  # Frequency of sine wave generators:\n",
        "  ifreq1\t=\t\targs[0]*1000\n",
        "  ifreq2\t=\t\targs[1]*1000\n",
        "\n",
        "  # Define synthesis envelopes with adjustable gains and decays:\n",
        "  env1 = Adsr(attack=0.005, decay=args[2], sustain=0.0, release=0.0, dur=0.5).play()\n",
        "  env2 = Adsr(attack=0.005, decay=args[3], sustain=0.0, release=0.0, dur=0.5).play()\n",
        "  env3 = Adsr(attack=0.005, decay=args[4], sustain=0.0, release=0.0, dur=dur).play()\n",
        "  env4 = Adsr(attack=0.005, decay=args[5], sustain=0.0, release=0.0, dur=dur).play()\n",
        "\n",
        "  qenv1 = Pow(env1, 8, mul=args[6])\n",
        "  qenv2 = Pow(env2, 8, mul=args[7])\n",
        "  qenv3 = Pow(env3, 8, mul=args[8])\n",
        "  qenv4 = Pow(env4, 8, mul=args[9])\n",
        "\n",
        "  # Noise generation (white)\n",
        "  n1 = Noise(args[15])\n",
        "\n",
        "  # Noise filters:\n",
        "  # lowpass:\n",
        "  fn1 = Biquad(n1, args[10]*10000, q=args[12]*10, type=0, mul=qenv3).out()\n",
        "  # highpass:\n",
        "  fn2 = Biquad(n1, args[11]*10000, q=args[13]*10, type=1, mul=qenv4).out()\n",
        "\n",
        "  osc1 = LFO(freq=ifreq1, type=3, mul=qenv1).out()\n",
        "  osc2 = LFO(freq=ifreq2, type=3, mul=qenv2).out()\n",
        "\n",
        "  # Start rendering.\n",
        "  s.start()\n",
        "\n",
        "  # Cleanup for the next pass.\n",
        "  s.shutdown()\n",
        "\n",
        "#test_args=[0.120,0.330,0.035,0.055,0.350,0.473,0.4,0.4,0.3,0.4,0.3,0.8040,0.2423]\n",
        "\n",
        "#snare_synth(test_args)\n",
        "#ipd.Audio('test.wav')"
      ],
      "execution_count": 0,
      "outputs": []
    },
    {
      "cell_type": "markdown",
      "metadata": {
        "id": "xPvSEkD3xM2x",
        "colab_type": "text"
      },
      "source": [
        "# Match to target sound using a genetic algorithm"
      ]
    },
    {
      "cell_type": "code",
      "metadata": {
        "colab_type": "code",
        "cellView": "form",
        "id": "xm7rBmLu9Ia-",
        "colab": {}
      },
      "source": [
        "#@title Upload target snare sound file\n",
        "\n",
        "from google.colab import files\n",
        "target_upload = files.upload()\n",
        "target = next(iter(target_upload))\n",
        "ipd.Audio(target)\n"
      ],
      "execution_count": 0,
      "outputs": []
    },
    {
      "cell_type": "code",
      "metadata": {
        "id": "ckkmsONGyeUp",
        "colab_type": "code",
        "cellView": "form",
        "colab": {}
      },
      "source": [
        "#@title Extract features of target sound and define fitness function\n",
        "\n",
        "n_fft = 1024 #@param {type:\"number\"}\n",
        "hop_length = 256 #@param {type:\"integer\"}\n",
        "n_seconds = 1 #@param {type:\"integer\"}\n",
        "\n",
        "y,fs = librosa.core.load(target, sr=None)\n",
        "\n",
        "# force length of target snare sound to n_seconds seconds\n",
        "y = librosa.util.fix_length(y, fs*n_seconds)\n",
        "\n",
        "# Calculate Spectrogram of target snare sound\n",
        "S = librosa.core.stft(y, n_fft=n_fft, hop_length=hop_length, window='hann')\n",
        "S_target, phase = librosa.magphase(S)\n",
        "\n",
        "# Spectral Centroid (not currently used):\n",
        "# C_target = librosa.feature.spectral_centroid(S=S_target)\n",
        "\n",
        "# Perform a fitness calculation for an array of synthesizer parameters\n",
        "def fitness_calc(input):\n",
        "\n",
        "  fitness = np.zeros(input.shape[0])\n",
        "\n",
        "  for ch in range(input.shape[0]):\n",
        "    # Synthesize and load snare sound\n",
        "    snare_synth(input[ch].tolist())\n",
        "    y,fs = librosa.core.load('synth_snare.wav', sr=None)\n",
        "\n",
        "    # Force length to n_seconds seconds\n",
        "    y = librosa.util.fix_length(y, fs*n_seconds)\n",
        "\n",
        "    # Calculate Spectrogram of synthesized snare sound\n",
        "    S = librosa.core.stft(y, n_fft=n_fft, hop_length=hop_length, window='hann')\n",
        "    S_synth, phase = librosa.magphase(S)\n",
        " \n",
        "    # Calulate mean squared error of the synthesized snare compared to the \"real\" snare\n",
        "    mse = ((S_synth - S_target)**2).mean()\n",
        "    \n",
        "    # Fitness is defined as the negative of the mean squared error\n",
        "    fitness[ch] = -mse\n",
        "\n",
        "  return fitness\n"
      ],
      "execution_count": 0,
      "outputs": []
    },
    {
      "cell_type": "code",
      "metadata": {
        "id": "BVQl6WZavP8C",
        "colab_type": "code",
        "cellView": "form",
        "colab": {}
      },
      "source": [
        "#@title Define genetic algorithm functions\n",
        "mute_probability = 0.2 #@param {type:\"slider\", min:0, max:1, step:0.01}\n",
        "mute_max_val = 0.8 #@param {type:\"slider\", min:0, max:1, step:0.01}\n",
        "parent_1_probability = 0.6 #@param {type:\"slider\", min:0, max:1, step:0.01}\n",
        "\n",
        "def calc_pop_fitness(pop, parents_fitness, generation, num_parents):\n",
        "\n",
        "     # Calculate the fitness value for each synthesizer parameter set in the current population\n",
        "     # If not the first generation, don't bother recalculating fitness for the \"parents\"\n",
        "     if generation > 0 :\n",
        "      fitness = np.empty( pop.shape[0])\n",
        "      fitness[0:num_parents] = parents_fitness\n",
        "      fitness[num_parents:] = fitness_calc(pop[parents.shape[0]:, :])\n",
        "     else :\n",
        "       fitness = fitness_calc(pop)\n",
        "     return fitness\n",
        "\n",
        "def select_mating_pool(pop, fitness, num_parents):\n",
        "\n",
        "    # Select the fittest as parents for producing the offspring of the next generation.\n",
        "    parents = np.empty((num_parents, pop.shape[1]))\n",
        "    parents_fitness = np.empty(num_parents)\n",
        "\n",
        "    for parent_num in range(num_parents):\n",
        "\n",
        "        max_fitness_idx = np.where(fitness == np.max(fitness))\n",
        "\n",
        "        max_fitness_idx = max_fitness_idx[0][0]\n",
        "\n",
        "        # print(max_fitness_idx)\n",
        "        # if parent_num == 0:\n",
        "          # print(pop[max_fitness_idx, :])\n",
        "\n",
        "\n",
        "        parents[parent_num, :] = pop[max_fitness_idx, :]\n",
        "        parents_fitness[parent_num] = fitness[max_fitness_idx]\n",
        "\n",
        "        fitness[max_fitness_idx] = -99999999999\n",
        "\n",
        "    return parents, parents_fitness\n",
        "\n",
        "def crossover(parents, offspring_size):\n",
        "\n",
        "     offspring = np.empty(offspring_size)\n",
        "\n",
        "     for k in range(offspring_size[0]):\n",
        "         # Index of the first parent to mate.\n",
        "         parent1_idx = k%parents.shape[0]\n",
        "         # Index of the second parent to mate.\n",
        "         parent2_idx = (k+1)%parents.shape[0]\n",
        "\n",
        "         for l in range(offspring_size[1]):\n",
        "             if np.random.uniform() < parent_1_probability:\n",
        "               offspring[k, l] = parents[parent1_idx, l]\n",
        "             else:\n",
        "               offspring[k, l] = parents[parent2_idx, l]\n",
        "     return offspring\n",
        "\n",
        "def mutation(offspring_crossover,num_weights):\n",
        "\n",
        "    # Mutation changes a single gene in each offspring randomly.\n",
        "    for idx in range(offspring_crossover.shape[0]):\n",
        "\n",
        "        # Randomly mutate some genes\n",
        "        for weight in range(num_weights):\n",
        "          if np.random.uniform() < mute_probability:\n",
        "            random_value = np.random.uniform(-mute_max_val, mute_max_val, 1)\n",
        "\n",
        "            # Apply mutation\n",
        "            offspring_crossover[idx, weight] = offspring_crossover[idx, weight] + random_value\n",
        "\n",
        "    return offspring_crossover"
      ],
      "execution_count": 0,
      "outputs": []
    },
    {
      "cell_type": "code",
      "metadata": {
        "id": "W84b7O6iKCQE",
        "colab_type": "code",
        "cellView": "form",
        "colab": {}
      },
      "source": [
        "#@title Run genetic algorithm\n",
        "num_population = 30 #@param {type:\"integer\"}\n",
        "num_generations = 100 #@param {type:\"integer\"}\n",
        "num_parents_mating = 5 #@param {type:\"integer\"}\n",
        "\n",
        "num_params = 16\n",
        "\n",
        "# Calculate size of array need to hold entire population of parameters\n",
        "pop_size = (num_population,num_params) \n",
        "\n",
        "#Create an initial random population\n",
        "new_population = np.random.uniform(low=0.0, high=1.0, size=pop_size)\n",
        "\n",
        "parents_fitness = np.empty(num_parents_mating)\n",
        "\n",
        "\n",
        "\n",
        "\n",
        "for generation in range(num_generations):\n",
        "     \n",
        "     # Measure the fitness of each member in the population.\n",
        "     fitness = calc_pop_fitness(new_population, parents_fitness, generation, num_parents_mating)\n",
        "     \n",
        "     print(\"Generation \" + str(generation) + \" best score: \" + str(fitness.max()))\n",
        "\n",
        "     # Select the best parents in the population for mating.\n",
        "     parents, parents_fitness = select_mating_pool(new_population, fitness, num_parents_mating)\n",
        " \n",
        "     # Generate the                                                                                                                                                                                                                                                                                                                                                                                                                                                                                                                                                                                                                                                                                                                                                                                                                                                                                                                                                                                                                                                                                                                                                                                                                next generation using crossover.\n",
        "     offspring_crossover = crossover(parents, offspring_size=(pop_size[0]-parents.shape[0], num_params))\n",
        " \n",
        "     # Adding some variations to the offsrping using mutation.\n",
        "     offspring_mutation = mutation(offspring_crossover,num_params)\n",
        "      # Creating the new population based on the parents and offspring.\n",
        "     new_population[0:parents.shape[0], :] = parents\n",
        "     new_population[parents.shape[0]:, :] = offspring_mutation\n"
      ],
      "execution_count": 0,
      "outputs": []
    },
    {
      "cell_type": "code",
      "metadata": {
        "id": "Zhif8V5T_ZFi",
        "colab_type": "code",
        "cellView": "form",
        "colab": {}
      },
      "source": [
        "#@title Listen to results!\n",
        "\n",
        "print(\"Generation number reached: \" + str(generation))\n",
        "\n",
        "print(\"Target sample:\")\n",
        "ipd.display(ipd.Audio(target))\n",
        "\n",
        "print(\"Closest match according to fitness function:\")\n",
        "max_fitness_idx = np.where(parents_fitness == np.max(parents_fitness))\n",
        "max_fitness_idx = max_fitness_idx[0][0]\n",
        "snare_synth(new_population[max_fitness_idx].tolist())\n",
        "ipd.display(ipd.Audio('synth_snare.wav'))\n",
        "print(\"parameters used to achieve closest match:\")\n",
        "print(new_population[max_fitness_idx])\n",
        "\n",
        "print(\"Randomly generated sample for comparison:\")\n",
        "random_params = np.random.uniform(low=0.0, high=1.0, size=num_params)\n",
        "snare_synth(random_params.tolist())\n",
        "ipd.display(ipd.Audio('synth_snare.wav'))\n"
      ],
      "execution_count": 0,
      "outputs": []
    },
    {
      "cell_type": "markdown",
      "metadata": {
        "id": "2ZUuTH6hhXwL",
        "colab_type": "text"
      },
      "source": [
        "# Or manually define drum synthesizer parameters..."
      ]
    },
    {
      "cell_type": "code",
      "metadata": {
        "id": "-rg7xMKpn7Ti",
        "colab_type": "code",
        "cellView": "form",
        "colab": {}
      },
      "source": [
        "#@title Snare Synth Manual Edit\n",
        "sine_1_freq = 0.53 #@param {type:\"slider\", min:0, max:1, step:0.01}\n",
        "sine_2_freq = 0.45 #@param {type:\"slider\", min:0, max:1, step:0.01}\n",
        "sine_1_decay = 0.56 #@param {type:\"slider\", min:0, max:1, step:0.01}\n",
        "sine_2_decay = 0.21 #@param {type:\"slider\", min:0, max:1, step:0.01}\n",
        "noise_lowpass_decay = 0.17 #@param {type:\"slider\", min:0, max:1, step:0.01}\n",
        "noise_highpass_decay = 0.4 #@param {type:\"slider\", min:0, max:1, step:0.01}\n",
        "sine_1_gain = 0.45 #@param {type:\"slider\", min:0, max:1, step:0.01}\n",
        "sine_2_gain = 0.27 #@param {type:\"slider\", min:0, max:1, step:0.01}\n",
        "noise_lowpass_gain = 0.61 #@param {type:\"slider\", min:0, max:1, step:0.01}\n",
        "noise_highpass_gain = 0.43 #@param {type:\"slider\", min:0, max:1, step:0.01}\n",
        "noise_lowpass_freq = 0.21 #@param {type:\"slider\", min:0, max:1, step:0.01}\n",
        "noise_highpass_freq = 0.43 #@param {type:\"slider\", min:0, max:1, step:0.01}\n",
        "noise_lowpass_q = 0.47 #@param {type:\"slider\", min:0, max:1, step:0.01}\n",
        "noise_highpass_q = 0.43 #@param {type:\"slider\", min:0, max:1, step:0.01}\n",
        "output_gain = 0.83 #@param {type:\"slider\", min:0, max:1, step:0.01}\n",
        "noise_gain = 0.83 #@param {type:\"slider\", min:0, max:1, step:0.01}\n",
        "\n",
        "args=[\n",
        "      sine_1_freq,\n",
        "      sine_2_freq,\n",
        "      sine_1_decay,\n",
        "      sine_2_decay,\n",
        "      noise_lowpass_decay,\n",
        "      noise_highpass_decay,\n",
        "      sine_1_gain,\n",
        "      sine_2_gain,\n",
        "      noise_lowpass_gain,\n",
        "      noise_highpass_gain,\n",
        "      noise_lowpass_freq,\n",
        "      noise_highpass_freq,\n",
        "      noise_lowpass_q,\n",
        "      noise_highpass_q,\n",
        "      output_gain,\n",
        "      noise_gain\n",
        "      ]\n",
        "\n",
        "snare_synth(args)\n",
        "ipd.Audio('synth_snare.wav')"
      ],
      "execution_count": 0,
      "outputs": []
    },
    {
      "cell_type": "markdown",
      "metadata": {
        "id": "uc8zEkf1K_WR",
        "colab_type": "text"
      },
      "source": [
        ""
      ]
    }
  ]
}
