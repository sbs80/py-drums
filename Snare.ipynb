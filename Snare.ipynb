{
  "nbformat": 4,
  "nbformat_minor": 0,
  "metadata": {
    "colab": {
      "name": "Snare.ipynb",
      "provenance": [],
      "collapsed_sections": [
        "V6uWxt0_cMd5"
      ],
      "toc_visible": true,
      "include_colab_link": true
    },
    "kernelspec": {
      "name": "python3",
      "display_name": "Python 3"
    }
  },
  "cells": [
    {
      "cell_type": "markdown",
      "metadata": {
        "id": "view-in-github",
        "colab_type": "text"
      },
      "source": [
        "<a href=\"https://colab.research.google.com/github/sbs80/py-drums/blob/master/Snare.ipynb\" target=\"_parent\"><img src=\"https://colab.research.google.com/assets/colab-badge.svg\" alt=\"Open In Colab\"/></a>"
      ]
    },
    {
      "cell_type": "markdown",
      "metadata": {
        "id": "qSOUu6DPa57A"
      },
      "source": [
        "# Snare Synthesizer\n",
        "A simple snare drum synthesizer written in Python with automatic parameter matching. A genetic algorithm is used to tune the synthesizer parameters in an attempt to match the output to an uploaded audio file.\n",
        "\n",
        "The synthesizer is loosely based on the technique described in this article: https://www.soundonsound.com/techniques/synthesizing-drums-snare-drum.\n",
        "\n",
        "The genetic algorithm is adapted from the following guide: https://towardsdatascience.com/genetic-algorithm-implementation-in-python-5ab67bb124a6. This has since been expanded to make a Python library PyGAD https://pypi.org/project/pygad."
      ]
    },
    {
      "cell_type": "markdown",
      "metadata": {
        "id": "V6uWxt0_cMd5"
      },
      "source": [
        "# Install and import packages"
      ]
    },
    {
      "cell_type": "code",
      "metadata": {
        "id": "5YTXwpMMhaua",
        "cellView": "form",
        "colab": {
          "base_uri": "https://localhost:8080/"
        },
        "outputId": "f410e335-2d49-4534-d013-90c028093721"
      },
      "source": [
        "#@title Install pyo package\n",
        "\n",
        "!pip install pyo"
      ],
      "execution_count": 1,
      "outputs": [
        {
          "output_type": "stream",
          "text": [
            "Requirement already satisfied: pyo in /usr/local/lib/python3.7/dist-packages (1.0.3)\n"
          ],
          "name": "stdout"
        }
      ]
    },
    {
      "cell_type": "code",
      "metadata": {
        "id": "oUlVUCfHphrA",
        "cellView": "form",
        "colab": {
          "base_uri": "https://localhost:8080/"
        },
        "outputId": "cab9b047-1f63-4ef7-fd38-39dea3894d3b"
      },
      "source": [
        "#@title Import packages\n",
        "\n",
        "import librosa\n",
        "import librosa.feature\n",
        "import numpy as np\n",
        "import IPython.display as ipd\n",
        "import random\n",
        "\n",
        "from pyo import *"
      ],
      "execution_count": 2,
      "outputs": [
        {
          "output_type": "stream",
          "text": [
            "\n",
            "WxPython is not found for the current python version.\n",
            "Pyo will use a minimal GUI toolkit written with Tkinter (if available).\n",
            "This toolkit has limited functionnalities and is no more\n",
            "maintained or updated. If you want to use all of pyo's\n",
            "GUI features, you should install WxPython, available here:\n",
            "http://www.wxpython.org/\n",
            "\n"
          ],
          "name": "stdout"
        }
      ]
    },
    {
      "cell_type": "markdown",
      "metadata": {
        "id": "hXwX9wtucWNW"
      },
      "source": [
        "#Define snare synthesizer engine"
      ]
    },
    {
      "cell_type": "code",
      "metadata": {
        "id": "qU6KHKR5hd2b",
        "cellView": "code"
      },
      "source": [
        "#@title Snare Synth\n",
        "\n",
        "def snare_synth(args):\n",
        "  # Creates and boots the pyo server\n",
        "  # Initialize the Server in offline mode\n",
        "  s = Server(duplex=0, nchnls=1, audio=\"offline\")\n",
        "  s.setVerbosity(0)\n",
        "  s.boot()\n",
        "\n",
        "  # Controls the overall gain of the synthesizer\n",
        "  s.amp = args[14]\n",
        "\n",
        "  # Output file duration\n",
        "  dur = 1.1\n",
        "\n",
        "  # Set recording parameters.\n",
        "  s.recordOptions(dur=dur,\n",
        "                  filename='synth_snare.wav',\n",
        "                  fileformat=0,\n",
        "                  sampletype=0)\n",
        "\n",
        "  # Synthesis consists of 2 sine wave generators and a filtered noise generator\n",
        "  # Frequency of sine wave generators:\n",
        "  ifreq1 = args[0]*1000.0\n",
        "  ifreq2 = args[1]*1000.0\n",
        "\n",
        "  # Define synthesis envelopes with adjustable gains and decays:\n",
        "  env1 = Adsr(attack=0.0001, decay=args[2], sustain=0.0, release=0.0, dur=dur)\n",
        "  env2 = Adsr(attack=0.0001, decay=args[3], sustain=0.0, release=0.0, dur=dur)\n",
        "  env3 = Adsr(attack=0.0001, decay=args[4], sustain=0.0, release=0.0, dur=dur)\n",
        "  env4 = Adsr(attack=0.0001, decay=args[5], sustain=0.0, release=0.0, dur=dur)\n",
        "\n",
        "  env1.setExp(args[6]*2.0)\n",
        "  env2.setExp(args[7]*2.0)\n",
        "  env3.setExp(args[8]*2.0)\n",
        "  env4.setExp(args[9]*2.0)\n",
        "\n",
        "  qenv1 = env1.play(delay = 0.1) * args[16]\n",
        "  qenv2 = env2.play(delay = 0.1) * args[17]\n",
        "  qenv3 = env3.play(delay = 0.1) * args[18]\n",
        "  qenv4 = env4.play(delay = 0.1) * args[19]\n",
        "\n",
        "  # Noise generation (white)\n",
        "  n1 = Noise(args[15])\n",
        "\n",
        "  # Noise filters:\n",
        "  # lowpass:\n",
        "  lp = Biquad(n1, args[10]*10000.0, q=args[12]*20.0, type=0)\n",
        "  \n",
        "  # highpass:\n",
        "  hpout = Biquad(lp, args[11]*1000.0, q=args[13]*20.0, type=1, mul=qenv4)\n",
        "  \n",
        "  lpout = (qenv3*lp)\n",
        "\n",
        "  osc1 = LFO(freq=ifreq1, type=3, mul=qenv1)\n",
        "  osc2 = LFO(freq=ifreq2, type=3, mul=qenv2)\n",
        "\n",
        "  # Note: output is delayed to avoid the automatic fade in applied bt Pyo at the start of the audio stream\n",
        "  (lpout+hpout+osc1+osc2).out(delay=0.1)\n",
        "\n",
        "  # Start rendering\n",
        "  s.start()\n",
        "\n",
        "  # Cleanup for the next pass\n",
        "  s.shutdown()"
      ],
      "execution_count": 3,
      "outputs": []
    },
    {
      "cell_type": "markdown",
      "metadata": {
        "id": "xPvSEkD3xM2x"
      },
      "source": [
        "# Match to target sound using a genetic algorithm"
      ]
    },
    {
      "cell_type": "code",
      "metadata": {
        "cellView": "form",
        "id": "xm7rBmLu9Ia-",
        "colab": {
          "resources": {
            "http://localhost:8080/nbextensions/google.colab/files.js": {
              "data": "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",
              "ok": true,
              "headers": [
                [
                  "content-type",
                  "application/javascript"
                ]
              ],
              "status": 200,
              "status_text": ""
            }
          },
          "base_uri": "https://localhost:8080/",
          "height": 130
        },
        "outputId": "73fcdc07-b599-4ce0-d5c9-24bfd4dbb91e"
      },
      "source": [
        "#@title Upload target snare sound file\n",
        "\n",
        "from google.colab import files\n",
        "target_upload = files.upload()\n",
        "target = next(iter(target_upload))\n",
        "ipd.Audio(target)"
      ],
      "execution_count": 4,
      "outputs": [
        {
          "output_type": "display_data",
          "data": {
            "text/html": [
              "\n",
              "     <input type=\"file\" id=\"files-06f296ab-c1d2-4f60-9a0b-410c9404d16d\" name=\"files[]\" multiple disabled\n",
              "        style=\"border:none\" />\n",
              "     <output id=\"result-06f296ab-c1d2-4f60-9a0b-410c9404d16d\">\n",
              "      Upload widget is only available when the cell has been executed in the\n",
              "      current browser session. Please rerun this cell to enable.\n",
              "      </output>\n",
              "      <script src=\"/nbextensions/google.colab/files.js\"></script> "
            ],
            "text/plain": [
              "<IPython.core.display.HTML object>"
            ]
          },
          "metadata": {
            "tags": []
          }
        },
        {
          "output_type": "stream",
          "text": [
            "Saving 808.wav to 808 (2).wav\n"
          ],
          "name": "stdout"
        },
        {
          "output_type": "execute_result",
          "data": {
            "text/html": [
              "\n",
              "                <audio controls=\"controls\" >\n",
              "                    <source src=\"data:audio/x-wav;base64,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\" type=\"audio/x-wav\" />\n",
              "                    Your browser does not support the audio element.\n",
              "                </audio>\n",
              "              "
            ],
            "text/plain": [
              "<IPython.lib.display.Audio object>"
            ]
          },
          "metadata": {
            "tags": []
          },
          "execution_count": 4
        }
      ]
    },
    {
      "cell_type": "code",
      "metadata": {
        "id": "ckkmsONGyeUp",
        "colab": {
          "base_uri": "https://localhost:8080/"
        },
        "cellView": "form",
        "outputId": "2049d5b7-afc2-4c0f-f3d0-6a0e6929a2bf"
      },
      "source": [
        "#@title Extract features of target sound and define fitness function\n",
        "\n",
        "n_fft = 1024 #@param {type:\"number\"}\n",
        "hop_length = 256 #@param {type:\"integer\"}\n",
        "n_seconds = 1 #@param {type:\"integer\"}\n",
        "\n",
        "def feature_extract(y, fs):\n",
        "\t\n",
        "  # Trim any silence at the start\n",
        "  y = np.trim_zeros(y, trim='f')\n",
        "\n",
        "  # Pad with zeros at the start for FFT\n",
        "  y = np.pad(y, (int(n_fft / 2),), 'constant')\n",
        "\n",
        "  # Force length to n_seconds seconds\n",
        "  # Fix length of input y to n_seconds seconds\n",
        "  n_samples = round(fs*n_seconds)\n",
        "  y = librosa.util.fix_length(y, n_samples)\n",
        "\n",
        "  # Calculate Spectrogram of input y\n",
        "  S = librosa.core.stft(y, n_fft=n_fft, hop_length=hop_length, window='hann')\n",
        "  features, phase = librosa.magphase(S)\n",
        "\t\n",
        "  # Spectral Centroid (not currently used):\n",
        "  # C_target = librosa.feature.spectral_centroid(S=S_target)\n",
        "\n",
        "  return features\n",
        "\n",
        "# Load target sound\n",
        "y,fs = librosa.core.load(target, sr=None)\n",
        "\n",
        "print(\"here\")\n",
        "\n",
        "# Extract features of target snare sound\n",
        "S_target = feature_extract(y,fs)\n",
        "\n",
        "print(\"here2\")\n",
        "\n",
        "# Perform a fitness calculation for an array of synthesizer parameters\n",
        "def fitness_calc(input):\n",
        "\n",
        "  fitness = np.zeros(input.shape[0])\n",
        "\n",
        "  for ch in range(input.shape[0]):\n",
        "    # Synthesize and load snare sound\n",
        "    snare_synth(input[ch].tolist())\n",
        "    y,fs = librosa.core.load('synth_snare.wav', sr=None)\n",
        "\n",
        "    # Calculate Spectrogram of synthesized snare sound\n",
        "    S_synth = feature_extract(y,fs)\n",
        " \n",
        "    # Calulate mean squared error of the synthesized snare compared to the \"real\" snare\n",
        "    mse = ((S_synth - S_target)**2).mean()\n",
        "    \n",
        "    # Fitness is defined as the negative of the mean squared error\n",
        "    fitness[ch] = -mse\n",
        "\n",
        "  return fitness"
      ],
      "execution_count": null,
      "outputs": [
        {
          "output_type": "stream",
          "text": [
            "here\n"
          ],
          "name": "stdout"
        }
      ]
    },
    {
      "cell_type": "code",
      "metadata": {
        "id": "BVQl6WZavP8C",
        "cellView": "form"
      },
      "source": [
        "#@title Define genetic algorithm functions\n",
        "mute_probability = 0.2 #@param {type:\"slider\", min:0, max:1, step:0.01}\n",
        "mute_max_val = 0.86 #@param {type:\"slider\", min:0, max:1, step:0.01}\n",
        "parent_1_probability = 0.6 #@param {type:\"slider\", min:0, max:1, step:0.01}\n",
        "\n",
        "def calc_pop_fitness(pop, parents_fitness, generation, num_parents):\n",
        "  # Calculate the fitness value for each synthesizer parameter set in the current population\n",
        "  # If not the first generation, don't bother recalculating fitness for the \"parents\"\n",
        "  if generation > 0:\n",
        "    fitness = np.empty( pop.shape[0])\n",
        "    fitness[0:num_parents] = parents_fitness\n",
        "    fitness[num_parents:] = fitness_calc(pop[parents.shape[0]:, :])\n",
        "  else:\n",
        "    fitness = fitness_calc(pop)\n",
        "  return fitness\n",
        "\n",
        "def select_mating_pool(pop, fitness, num_parents):\n",
        "  # Select the fittest as parents for producing the offspring of the next generation\n",
        "  parents = np.empty((num_parents, pop.shape[1]))\n",
        "  parents_fitness = np.empty(num_parents)\n",
        "\n",
        "  for parent_num in range(num_parents):\n",
        "    max_fitness_idx = np.where(fitness == np.max(fitness))\n",
        "    max_fitness_idx = max_fitness_idx[0][0]\n",
        "\n",
        "    # print(max_fitness_idx)\n",
        "    # if parent_num == 0:\n",
        "    # print(pop[max_fitness_idx, :])\n",
        "\n",
        "    parents[parent_num, :] = pop[max_fitness_idx, :]\n",
        "    parents_fitness[parent_num] = fitness[max_fitness_idx]\n",
        "\n",
        "    fitness[max_fitness_idx] = -99999999999\n",
        "\n",
        "  return parents, parents_fitness\n",
        "\n",
        "def crossover(parents, offspring_size):\n",
        "  offspring = np.empty(offspring_size)\n",
        "\n",
        "  for k in range(offspring_size[0]):\n",
        "    # Index of the first parent to mate\n",
        "    parent1_idx = k%parents.shape[0]\n",
        "    # Index of the second parent to mate\n",
        "    parent2_idx = (k+1)%parents.shape[0]\n",
        "\n",
        "    for l in range(offspring_size[1]):\n",
        "      if np.random.uniform() < parent_1_probability:\n",
        "        offspring[k, l] = parents[parent1_idx, l]\n",
        "      else:\n",
        "        offspring[k, l] = parents[parent2_idx, l]\n",
        "  return offspring\n",
        "\n",
        "def mutation(offspring_crossover,num_weights):\n",
        "  # Mutation changes a single gene in each offspring randomly \n",
        "  for idx in range(offspring_crossover.shape[0]):\n",
        "    # Randomly mutate some genes\n",
        "    for weight in range(num_weights):\n",
        "      if np.random.uniform() < mute_probability:\n",
        "        random_value = np.random.uniform(-mute_max_val, mute_max_val, 1)\n",
        "\n",
        "        # Apply mutation\n",
        "        offspring_crossover[idx, weight] = offspring_crossover[idx, weight] + random_value\n",
        "\n",
        "  return offspring_crossover"
      ],
      "execution_count": null,
      "outputs": []
    },
    {
      "cell_type": "code",
      "metadata": {
        "id": "W84b7O6iKCQE",
        "cellView": "form"
      },
      "source": [
        "#@title Run genetic algorithm\n",
        "num_population = 30 #@param {type:\"integer\"}\n",
        "num_generations = 200 #@param {type:\"integer\"}\n",
        "num_parents_mating = 5 #@param {type:\"integer\"}\n",
        "\n",
        "num_params = 20\n",
        "\n",
        "# Calculate size of array need to hold entire population of parameters\n",
        "pop_size = (num_population,num_params) \n",
        "\n",
        "#Create an initial random population.\n",
        "new_population = np.random.uniform(low=0.0, high=1.0, size=pop_size)\n",
        "\n",
        "parents_fitness = np.empty(num_parents_mating)\n",
        "\n",
        "\n",
        "\n",
        "\n",
        "for generation in range(num_generations):\n",
        "  # Measure the fitness of each member in the population\n",
        "  fitness = calc_pop_fitness(new_population, parents_fitness, generation, num_parents_mating)\n",
        "     \n",
        "  print(\"Generation \" + str(generation) + \" best score: \" + str(fitness.max()))\n",
        "\n",
        "  # Allow user to listen to the result after every 10 generations\n",
        "  if generation % 10 == 0:\n",
        "    max_fitness_idx = np.where(parents_fitness == np.max(parents_fitness))\n",
        "    max_fitness_idx = max_fitness_idx[0][0]\n",
        "    snare_synth(new_population[max_fitness_idx].tolist())\n",
        "    ipd.display(ipd.Audio('synth_snare.wav'))\n",
        "    print(\"parameters used to achieve closest match:\")\n",
        "    print(new_population[max_fitness_idx])\n",
        "\n",
        "  # Select the best parents in the population for mating\n",
        "  parents, parents_fitness = select_mating_pool(new_population, fitness, num_parents_mating)\n",
        " \n",
        "  # Generate the next generation using crossover\n",
        "  offspring_crossover = crossover(parents, offspring_size=(pop_size[0]-parents.shape[0], num_params))\n",
        " \n",
        "  # Adding some variations to the offsrping using mutation\n",
        "  offspring_mutation = mutation(offspring_crossover,num_params)\n",
        "  # Creating the new population based on the parents and offspring\n",
        "  new_population[0:parents.shape[0], :] = parents\n",
        "  new_population[parents.shape[0]:, :] = offspring_mutation"
      ],
      "execution_count": null,
      "outputs": []
    },
    {
      "cell_type": "code",
      "metadata": {
        "id": "Zhif8V5T_ZFi",
        "cellView": "form"
      },
      "source": [
        "#@title Listen to results!\n",
        "\n",
        "print(\"Generation number reached: \" + str(generation))\n",
        "\n",
        "print(\"Target sample:\")\n",
        "ipd.display(ipd.Audio(target))\n",
        "\n",
        "print(\"Closest match according to fitness function:\")\n",
        "max_fitness_idx = np.where(parents_fitness == np.max(parents_fitness))\n",
        "max_fitness_idx = max_fitness_idx[0][0]\n",
        "snare_synth(new_population[max_fitness_idx].tolist())\n",
        "ipd.display(ipd.Audio('synth_snare.wav'))\n",
        "print(\"parameters used to achieve closest match:\")\n",
        "print(new_population[max_fitness_idx])\n",
        "\n",
        "print(\"Randomly generated sample for comparison:\")\n",
        "random_params = np.random.uniform(low=0.0, high=1.0, size=num_params)\n",
        "snare_synth(random_params.tolist())\n",
        "ipd.display(ipd.Audio('synth_snare.wav'))"
      ],
      "execution_count": null,
      "outputs": []
    }
  ]
}